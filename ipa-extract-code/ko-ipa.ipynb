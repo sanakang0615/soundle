{
 "cells": [
  {
   "cell_type": "markdown",
   "metadata": {},
   "source": [
    "# 한국어 데이터셋 로드"
   ]
  },
  {
   "cell_type": "code",
   "execution_count": null,
   "metadata": {},
   "outputs": [],
   "source": [
    "!pip install datasets"
   ]
  },
  {
   "cell_type": "code",
   "execution_count": null,
   "metadata": {},
   "outputs": [],
   "source": [
    "from datasets import load_dataset\n",
    "import pandas as pd\n",
    "\n",
    "dataset = load_dataset(\"hac541309/basic_korean_dict\")\n",
    "dataset_train = dataset['train']\n",
    "df = dataset['train'].to_pandas()"
   ]
  },
  {
   "cell_type": "code",
   "execution_count": null,
   "metadata": {},
   "outputs": [],
   "source": [
    "df = df[~df['text'].str.contains('품사: 어미|품사: 품사 없음|품사: 접사|품사: 조사')]\n",
    "df = df[~df['text'].str.contains(r'표제어: [ㄱ-ㅎㅏ-ㅣ가-힣],', regex=True)]\n",
    "df['word'] = df['text'].str.extract(r'표제어: ([ㄱ-ㅎㅏ-ㅣ가-힣 ]+), ')\n",
    "df['text'] = df['text'].str.replace(r'표제어: ([ㄱ-ㅎㅏ-ㅣ가-힣 ]+), ', '', regex=True)\n",
    "df['구분'] = df['text'].str.extract(r'구분: ([ㄱ-ㅎㅏ-ㅣ가-힣]+),')\n",
    "df['text'] = df['text'].str.replace(r'구분: [ㄱ-ㅎㅏ-ㅣ가-힣]+, ', '', regex=True)\n",
    "df['품사'] = df['text'].str.extract(r'품사: ([ㄱ-ㅎㅏ-ㅣ가-힣]+),')\n",
    "df['text'] = df['text'].str.replace(r'품사: [ㄱ-ㅎㅏ-ㅣ가-힣]+, ', '', regex=True)\n",
    "df['고유어 여부'] = df['text'].str.extract(r'고유어 여부: ([ㄱ-ㅎㅏ-ㅣ가-힣]+),')\n",
    "df['text'] = df['text'].str.replace(r'고유어 여부: [ㄱ-ㅎㅏ-ㅣ가-힣]+, ', '', regex=True)\n",
    "df['원어'] = df['text'].str.extract(r'원어: ([^,]+),')\n",
    "df['text'] = df['text'].str.replace(r'원어: [^,]+, ', '', regex=True)\n",
    "df['발음'] = df['text'].str.extract(r'발음: ([^,]+),')\n",
    "df['text'] = df['text'].str.replace(r'발음: [^,]+, ', '', regex=True)\n",
    "df['어휘 등급'] = df['text'].str.extract(r'어휘 등급: ([^,]+),')\n",
    "df['text'] = df['text'].str.replace(r'어휘 등급: [^,]+, ', '', regex=True)\n",
    "df['영어 대역어 뜻풀이'] = df['text'].str.extract(r'영어 대역어 뜻풀이: ([^,]+),')\n",
    "df['text'] = df['text'].str.replace(r'영어 대역어 뜻풀이: [^,]+, ', '', regex=True)\n",
    "df['영어 대역어'] = df['text'].str.extract(r'영어 대역어: ([^,]+),')\n",
    "df['text'] = df['text'].str.replace(r'영어 대역어: [^,]+, ', '', regex=True)\n",
    "df['주제 및 상황 범주'] = df['text'].str.extract(r'주제 및 상황 범주: ([^,]+),')\n",
    "df['text'] = df['text'].str.replace(r'주제 및 상황 범주: [^,]+, ', '', regex=True)\n",
    "df['뜻풀이'] = df['text'].str.extract(r'(?:^|, )뜻풀이: ([^,]+),')\n",
    "df['의미 범주'] = df['text'].str.extract(r'(?:^|, )의미 범주: (.*?)(?=, 용례| 용례|,|$)')\n",
    "df['text'] = df['text'].str.replace(r'(?:^|, )의미 범주: (.*?)(?=, 용례| 용례|,|$)', '', regex=True)"
   ]
  },
  {
   "cell_type": "code",
   "execution_count": null,
   "metadata": {},
   "outputs": [],
   "source": [
    "columns_new = [\n",
    "    'text', 'raw', 'word', 'category', 'part_of_speech', 'native_word',\n",
    "    'origin_word', 'pronunciation', 'vocabulary_level',\n",
    "    'english_meaning_explained', 'english_equivalent',\n",
    "    'topic_and_context_category', 'definition', 'semantic_category'\n",
    "]\n",
    "df.columns = columns_new\n",
    "df = df[df['category'] != '부표제어']\n",
    "df.drop(columns=['category'], inplace=True)\n",
    "df = df[ [\n",
    "    'word', 'part_of_speech', 'native_word',\n",
    "    'origin_word', 'pronunciation', 'vocabulary_level',\n",
    "    'english_meaning_explained', 'english_equivalent',\n",
    "    'topic_and_context_category', 'definition', 'semantic_category'\n",
    "]]\n",
    "df.to_csv('./ko-dict-filtered-re.csv', index=False)"
   ]
  }
 ],
 "metadata": {
  "kernelspec": {
   "display_name": "Python 3",
   "language": "python",
   "name": "python3"
  },
  "language_info": {
   "name": "python",
   "version": "3.9.6"
  }
 },
 "nbformat": 4,
 "nbformat_minor": 2
}
